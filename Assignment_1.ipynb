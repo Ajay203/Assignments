{
  "metadata": {
    "language_info": {
      "codemirror_mode": {
        "name": "python",
        "version": 3
      },
      "file_extension": ".py",
      "mimetype": "text/x-python",
      "name": "python",
      "nbconvert_exporter": "python",
      "pygments_lexer": "ipython3",
      "version": "3.8"
    },
    "kernelspec": {
      "name": "python",
      "display_name": "Python (Pyodide)",
      "language": "python"
    }
  },
  "nbformat_minor": 4,
  "nbformat": 4,
  "cells": [
    {
      "cell_type": "code",
      "source": "\"\"\"\nQ1. Why do we call Python as a general purpose and high-level programming language?\nAns - A general-purpose programming language is one that have wide variety of use cases and is used for solving a very wide range of problems.\nPython is a language that is used for many purpose like it is used in Data Science , web development , software development , etc , therefore python is called a general purpose language.\nAs the syntax of python is easily readable by humans therefore python is called a high-level programming language\n\nQ2. Why is Python called a dynamically typed language ?\nAns - In python while writing code , we don't have to declare the data-type as we have to do in java or c++ or other programming languages as python recognizes the datatype automatically while execution of the program , therefore Python called a dynamically typed language\n\nQ3. List some pros and cons of Python programming language?\nAns - Below is the list:\n\tPros : \n1/ Python is an excellent language for beginners thanks to its simplicity.\n2/ It is a general purpose language so it have a wide variety of use case.\n3/ As it is an open-source and free language the community support for python is massive and due to this there extensive set of libraries which contains code for various purposes.\n4/ The code written in python language is easy to understand as it resembles very closely with english language.\n5/ Python is extremely flexible and can be extended to other languages.\n\tCons :\n1/ Python need to be setup in work environment to be able to work with it.\n2/ The memory consumption of pyhton is more as compare to other progarmming language.\n\nQ4. In what all domains can we use Python?\nAns - Python is used in : data analytics , machine learning , data engineering , data science , web development , software development \n\nQ5. What are variable and how can we declare them?\nAns - variables are containers that can store various data inside them , data types like string , integers , boolean , float , list , etc.\n\nQ6. How can we take an input from the user in Python?\nAns - input() - command is used to take input from user and the this input value can be stored in a variable. eg : name = input (\"Enter your name : \")\n\nQ7. What is the default datatype of the value that has been taken as an input using input() function?\nAns - String is the default data type for input function.\n\nQ8. What is type casting?\nAns - Type Cast means changing the data type of a variable or an input from the user.\n\nQ9. Can we take more than one input from the user using single input() function? If yes, how? If no, why?\nAns - \n\nQ10. What are keywords?\nAns - Keywords are set of words that are already defined in form of functions in python. for e.g : boolean , int , etc.\n\nQ11. Can we use keywords as a variable? Support your answer with reason.\nAns - No we cannot use keywords as a variable.\nThis is because if we use keywords as variable then the system will get confused if the given word is keyword or variable and error occurs.\n\nQ12. What is indentation? What's the use of indentaion in Python?\nAns - Indentation in general means indenting words or spaces or lines in the document to follow the styling rule for documentation.The identification of a block of code in Python is done using Indentation\n\nQ13. How can we throw some output in Python?\nAns - To throw an output in python \"print()\" command is used.\n\nQ14. What are operators in Python?\nAns - Operators are the functions that are used to perform Arithmetic operations. eg : \"+\" operator is used to do addition , \"-\" operator id used to do Subtraction , etc.\n\nQ15. What is difference between / and // operators?\nAns - The division / opeartor gives the exact value of the result and the floor division // opeator rounds the result down to the nearest whole number.\n\"\"\"",
      "metadata": {},
      "execution_count": null,
      "outputs": []
    },
    {
      "cell_type": "code",
      "source": "#Q16. Write a code that gives following as an output.\n#iNeuroniNeuroniNeuroniNeuron\n\nname = \"iNeuron\"\n\nprint (name *4)",
      "metadata": {
        "trusted": true
      },
      "execution_count": 5,
      "outputs": [
        {
          "name": "stdout",
          "text": "iNeuroniNeuroniNeuroniNeuron\n",
          "output_type": "stream"
        }
      ]
    },
    {
      "cell_type": "code",
      "source": "#Q17. Write a code to take a number as an input from the user and check if the number is odd or even.\nuser_input = input(\"Please enter a number : \")\ngiven_number = int(user_input)\n\nif given_number % 2 == 0 :\n    print (\"The given number \", given_number ,\"is a even number\")\nelse : \n    print (\"The given number \", given_number ,\"is a odd number\")\n",
      "metadata": {
        "trusted": true
      },
      "execution_count": null,
      "outputs": []
    },
    {
      "cell_type": "code",
      "source": "\"\"\"\nQ18. What are boolean operator?\nAns - Boolean aperators are the operators which can only store \"TRUE\" or \"FALSE\" as their value.\nThey are often used in conditional statement to check if the given condition is true or not.\n\"\"\"",
      "metadata": {},
      "execution_count": null,
      "outputs": []
    },
    {
      "cell_type": "code",
      "source": "\"\"\"\nQ19. What will the output of the following?\n```\na) 1 or 0\nans - 1\nb) 0 and 0\nans 0\nc) True and False and True\nans - False\nd) 1 or 0 or 0\nans - 1\n```\n\"\"\"",
      "metadata": {},
      "execution_count": null,
      "outputs": []
    },
    {
      "cell_type": "code",
      "source": "\"\"\"\nQ20. What are conditional statements in Python?\nAns - Conditional statements are the code lines which helps us to perform functions based on the specified conditions. \nIf the specific condition is fulfilled then pyhton will execute the following code block otherwise it will move to the next statement.\nAnswer of Q17 is an example of conditional statement.\n\"\"\"",
      "metadata": {},
      "execution_count": null,
      "outputs": []
    },
    {
      "cell_type": "code",
      "source": "\"\"\"\nQ21. What is use of 'if', 'elif' and 'else' keywords?\nAns - \"IF\" is the starting statement of if else statement.\nIn the code \"if\" statement follows with a conditional statement and if value of conditional statement is true then the code block of 'if' will execute and the rest block of the function will be discarded.\n\"Else\" is the end of the 'if else' function but it does not contain any conditional statement like \"if\"command and it is not compulsory to use else statement to execute if statement.It is executed if no condition from the no condition from the function is true.\n\"ELIF\" is statement is used between if and else statement , this command is used to add additional conditions to an if else function.\n\"\"\"",
      "metadata": {},
      "execution_count": null,
      "outputs": []
    },
    {
      "cell_type": "code",
      "source": "\"\"\"\nQ22. Write a code to take the age of person as an input and if age >= 18 display \"I can vote\". If age is < 18 display \"I can't vote\".\n\"\"\"\nuser_input = input(\"Please enter your age in number : \")\ngiven_number = int(user_input)\n\nif given_number >= 18 :\n    print (\"I can vote !\")\nelif given_number < 18 : \n    print (\"I can't vote !\")",
      "metadata": {},
      "execution_count": null,
      "outputs": []
    },
    {
      "cell_type": "code",
      "source": "\"\"\"\nQ23. Write a code that displays the sum of all the even numbers from the given list.\n```\nnumbers = [12, 75, 150, 180, 145, 525, 50]\n```\n\"\"\"\nnumbers = [12, 75, 150, 180, 145, 525, 50]\nresult = 0\nfor num in numbers:\n    if num % 2 == 0 :\n        result = result + num\n\nprint (result)",
      "metadata": {},
      "execution_count": null,
      "outputs": []
    },
    {
      "cell_type": "code",
      "source": "\"\"\"\nQ24. Write a code to take 3 numbers as an input from the user and display the greatest no as output.\n\"\"\"\n\nnum1 = int(input(\"Enter first number: \"))\nnum2 = int(input(\"Enter second number: \"))\nnum3 = int(input(\"Enter third number: \"))\n\nif (num1 >= num2) and (num1 >= num3):\n   largest = num1\nelif (num2 >= num1) and (num2 >= num3):\n   largest = num2\nelse:\n   largest = num3\n\nprint(\"The largest number is\", largest)",
      "metadata": {},
      "execution_count": null,
      "outputs": []
    },
    {
      "cell_type": "code",
      "source": "\"\"\"\nQ25. Write a program to display only those numbers from a list that satisfy the following conditions\n\n- The number must be divisible by five\n\n- If the number is greater than 150, then skip it and move to the next number\n\n- If the number is greater than 500, then stop the loop\n```\nnumbers = [12, 75, 150, 180, 145, 525, 50]\n```\n\"\"\"\na = [12, 75, 150, 180, 145, 525, 50]\nb = []\nfor i in a:\n    if i > 150:\n        if i > 500:\n            break\n        continue\n    if i % 5 == 0:\n        b.append(i)\n        \nprint(b)",
      "metadata": {},
      "execution_count": null,
      "outputs": []
    }
  ]
}