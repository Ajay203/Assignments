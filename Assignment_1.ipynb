{
  "cells": [
    {
      "cell_type": "code",
      "execution_count": null,
      "metadata": {},
      "outputs": [],
      "source": [
        "\"\"\"\n",
        "Q1. Why do we call Python as a general purpose and high-level programming language?\n",
        "Ans - A general-purpose programming language is one that have wide variety of use cases and is used for solving a very wide range of problems.\n",
        "Python is a language that is used for many purpose like it is used in Data Science , web development , software development , etc , therefore python is called a general purpose language.\n",
        "As the syntax of python is easily readable by humans therefore python is called a high-level programming language\n",
        "\n",
        "Q2. Why is Python called a dynamically typed language ?\n",
        "Ans - In python while writing code , we don't have to declare the data-type as we have to do in java or c++ or other programming languages as python recognizes the datatype automatically while execution of the program , therefore Python called a dynamically typed language\n",
        "\n",
        "Q3. List some pros and cons of Python programming language?\n",
        "Ans - Below is the list:\n",
        "\tPros : \n",
        "1/ Python is an excellent language for beginners thanks to its simplicity.\n",
        "2/ It is a general purpose language so it have a wide variety of use case.\n",
        "3/ As it is an open-source and free language the community support for python is massive and due to this there extensive set of libraries which contains code for various purposes.\n",
        "4/ The code written in python language is easy to understand as it resembles very closely with english language.\n",
        "5/ Python is extremely flexible and can be extended to other languages.\n",
        "\tCons :\n",
        "1/ Python need to be setup in work environment to be able to work with it.\n",
        "2/ The memory consumption of pyhton is more as compare to other progarmming language.\n",
        "\n",
        "Q4. In what all domains can we use Python?\n",
        "Ans - Python is used in : data analytics , machine learning , data engineering , data science , web development , software development \n",
        "\n",
        "Q5. What are variable and how can we declare them?\n",
        "Ans - variables are containers that can store various data inside them , data types like string , integers , boolean , float , list , etc.\n",
        "\n",
        "Q6. How can we take an input from the user in Python?\n",
        "Ans - input() - command is used to take input from user and the this input value can be stored in a variable. eg : name = input (\"Enter your name : \")\n",
        "\n",
        "Q7. What is the default datatype of the value that has been taken as an input using input() function?\n",
        "Ans - String is the default data type for input function.\n",
        "\n",
        "Q8. What is type casting?\n",
        "Ans - Type Cast means changing the data type of a variable or an input from the user.\n",
        "\n",
        "Q9. Can we take more than one input from the user using single input() function? If yes, how? If no, why?\n",
        "Ans - No , we cannot take multiple inputs in a single function because the function only takes one value at a time.\n",
        "\n",
        "Q10. What are keywords?\n",
        "Ans - Keywords are set of words that are already defined in form of functions in python. for e.g : boolean , int , etc.\n",
        "\n",
        "Q11. Can we use keywords as a variable? Support your answer with reason.\n",
        "Ans - No we cannot use keywords as a variable.\n",
        "This is because if we use keywords as variable then the system will get confused if the given word is keyword or variable and error occurs.\n",
        "\n",
        "Q12. What is indentation? What's the use of indentaion in Python?\n",
        "Ans - Indentation in general means indenting words or spaces or lines in the document to follow the styling rule for documentation.The identification of a block of code in Python is done using Indentation\n",
        "\n",
        "Q13. How can we throw some output in Python?\n",
        "Ans - To throw an output in python \"print()\" command is used.\n",
        "\n",
        "Q14. What are operators in Python?\n",
        "Ans - Operators are the functions that are used to perform Arithmetic operations. eg : \"+\" operator is used to do addition , \"-\" operator id used to do Subtraction , etc.\n",
        "\n",
        "Q15. What is difference between / and // operators?\n",
        "Ans - The division / opeartor gives the exact value of the result and the floor division // opeator rounds the result down to the nearest whole number.\n",
        "\"\"\""
      ]
    },
    {
      "cell_type": "code",
      "execution_count": 5,
      "metadata": {
        "trusted": true
      },
      "outputs": [
        {
          "name": "stdout",
          "output_type": "stream",
          "text": [
            "iNeuroniNeuroniNeuroniNeuron\n"
          ]
        }
      ],
      "source": [
        "#Q16. Write a code that gives following as an output.\n",
        "#iNeuroniNeuroniNeuroniNeuron\n",
        "\n",
        "name = \"iNeuron\"\n",
        "\n",
        "print (name *4)"
      ]
    },
    {
      "cell_type": "code",
      "execution_count": null,
      "metadata": {
        "trusted": true
      },
      "outputs": [],
      "source": [
        "#Q17. Write a code to take a number as an input from the user and check if the number is odd or even.\n",
        "user_input = input(\"Please enter a number : \")\n",
        "given_number = int(user_input)\n",
        "\n",
        "if given_number % 2 == 0 :\n",
        "    print (\"The given number \", given_number ,\"is a even number\")\n",
        "else : \n",
        "    print (\"The given number \", given_number ,\"is a odd number\")\n"
      ]
    },
    {
      "cell_type": "code",
      "execution_count": null,
      "metadata": {},
      "outputs": [],
      "source": [
        "\"\"\"\n",
        "Q18. What are boolean operator?\n",
        "Ans - Boolean aperators are the operators which can only store \"TRUE\" or \"FALSE\" as their value.\n",
        "They are often used in conditional statement to check if the given condition is true or not.\n",
        "\"\"\""
      ]
    },
    {
      "cell_type": "code",
      "execution_count": null,
      "metadata": {},
      "outputs": [],
      "source": [
        "\"\"\"\n",
        "Q19. What will the output of the following?\n",
        "```\n",
        "a) 1 or 0\n",
        "ans - 1\n",
        "b) 0 and 0\n",
        "ans 0\n",
        "c) True and False and True\n",
        "ans - False\n",
        "d) 1 or 0 or 0\n",
        "ans - 1\n",
        "```\n",
        "\"\"\""
      ]
    },
    {
      "cell_type": "code",
      "execution_count": null,
      "metadata": {},
      "outputs": [],
      "source": [
        "\"\"\"\n",
        "Q20. What are conditional statements in Python?\n",
        "Ans - Conditional statements are the code lines which helps us to perform functions based on the specified conditions. \n",
        "If the specific condition is fulfilled then pyhton will execute the following code block otherwise it will move to the next statement.\n",
        "Answer of Q17 is an example of conditional statement.\n",
        "\"\"\""
      ]
    },
    {
      "cell_type": "code",
      "execution_count": null,
      "metadata": {},
      "outputs": [],
      "source": [
        "\"\"\"\n",
        "Q21. What is use of 'if', 'elif' and 'else' keywords?\n",
        "Ans - \"IF\" is the starting statement of if else statement.\n",
        "In the code \"if\" statement follows with a conditional statement and if value of conditional statement is true then the code block of 'if' will execute and the rest block of the function will be discarded.\n",
        "\"Else\" is the end of the 'if else' function but it does not contain any conditional statement like \"if\"command and it is not compulsory to use else statement to execute if statement.It is executed if no condition from the no condition from the function is true.\n",
        "\"ELIF\" is statement is used between if and else statement , this command is used to add additional conditions to an if else function.\n",
        "\"\"\""
      ]
    },
    {
      "cell_type": "code",
      "execution_count": null,
      "metadata": {},
      "outputs": [],
      "source": [
        "\"\"\"\n",
        "Q22. Write a code to take the age of person as an input and if age >= 18 display \"I can vote\". If age is < 18 display \"I can't vote\".\n",
        "\"\"\"\n",
        "user_input = input(\"Please enter your age in number : \")\n",
        "given_number = int(user_input)\n",
        "\n",
        "if given_number >= 18 :\n",
        "    print (\"I can vote !\")\n",
        "elif given_number < 18 : \n",
        "    print (\"I can't vote !\")"
      ]
    },
    {
      "cell_type": "code",
      "execution_count": null,
      "metadata": {},
      "outputs": [],
      "source": [
        "\"\"\"\n",
        "Q23. Write a code that displays the sum of all the even numbers from the given list.\n",
        "```\n",
        "numbers = [12, 75, 150, 180, 145, 525, 50]\n",
        "```\n",
        "\"\"\"\n",
        "numbers = [12, 75, 150, 180, 145, 525, 50]\n",
        "result = 0\n",
        "for num in numbers:\n",
        "    if num % 2 == 0 :\n",
        "        result = result + num\n",
        "\n",
        "print (result)"
      ]
    },
    {
      "cell_type": "code",
      "execution_count": null,
      "metadata": {},
      "outputs": [],
      "source": [
        "\"\"\"\n",
        "Q24. Write a code to take 3 numbers as an input from the user and display the greatest no as output.\n",
        "\"\"\"\n",
        "\n",
        "num1 = int(input(\"Enter first number: \"))\n",
        "num2 = int(input(\"Enter second number: \"))\n",
        "num3 = int(input(\"Enter third number: \"))\n",
        "\n",
        "if (num1 >= num2) and (num1 >= num3):\n",
        "   largest = num1\n",
        "elif (num2 >= num1) and (num2 >= num3):\n",
        "   largest = num2\n",
        "else:\n",
        "   largest = num3\n",
        "\n",
        "print(\"The largest number is\", largest)"
      ]
    },
    {
      "cell_type": "code",
      "execution_count": null,
      "metadata": {},
      "outputs": [],
      "source": [
        "\"\"\"\n",
        "Q25. Write a program to display only those numbers from a list that satisfy the following conditions\n",
        "\n",
        "- The number must be divisible by five\n",
        "\n",
        "- If the number is greater than 150, then skip it and move to the next number\n",
        "\n",
        "- If the number is greater than 500, then stop the loop\n",
        "```\n",
        "numbers = [12, 75, 150, 180, 145, 525, 50]\n",
        "```\n",
        "\"\"\"\n",
        "a = [12, 75, 150, 180, 145, 525, 50]\n",
        "b = []\n",
        "for i in a:\n",
        "    if i > 150:\n",
        "        if i > 500:\n",
        "            break\n",
        "        continue\n",
        "    if i % 5 == 0:\n",
        "        b.append(i)\n",
        "        \n",
        "print(b)"
      ]
    }
  ],
  "metadata": {
    "kernelspec": {
      "display_name": "Python (Pyodide)",
      "language": "python",
      "name": "python"
    },
    "language_info": {
      "codemirror_mode": {
        "name": "python",
        "version": 3
      },
      "file_extension": ".py",
      "mimetype": "text/x-python",
      "name": "python",
      "nbconvert_exporter": "python",
      "pygments_lexer": "ipython3",
      "version": "3.8"
    }
  },
  "nbformat": 4,
  "nbformat_minor": 4
}
