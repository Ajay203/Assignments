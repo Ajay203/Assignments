{
  "metadata": {
    "language_info": {
      "codemirror_mode": {
        "name": "python",
        "version": 3
      },
      "file_extension": ".py",
      "mimetype": "text/x-python",
      "name": "python",
      "nbconvert_exporter": "python",
      "pygments_lexer": "ipython3",
      "version": "3.8"
    },
    "kernelspec": {
      "name": "python",
      "display_name": "Python (Pyodide)",
      "language": "python"
    }
  },
  "nbformat_minor": 4,
  "nbformat": 4,
  "cells": [
    {
      "cell_type": "code",
      "source": "\"\"\"\nQ1. Why do we call Python as a general purpose and high-level programming language?\nAns - A general-purpose programming language is one that have wide variety of use cases and is used for solving a very wide range of problems.\nPython is a language that is used for many purpose like it is used in Data Science , web development , software development , etc , therefore python is called a general purpose language.\nAs the syntax of python is easily readable by humans therefore python is called a high-level programming language\n\nQ2. Why is Python called a dynamically typed language ?\nAns - In python while writing code , we don't have to declare the data-type as we have to do in java or c++ or other programming languages as python recognizes the datatype automatically while execution of the program , therefore Python called a dynamically typed language\n\nQ3. List some pros and cons of Python programming language?\nAns - Below is the list:\n\tPros : \n1/ Python is an excellent language for beginners thanks to its simplicity.\n2/ It is a general purpose language so it have a wide variety of use case.\n3/ As it is an open-source and free language the community support for python is massive and due to this there extensive set of libraries which contains code for various purposes.\n4/ The code written in python language is easy to understand as it resembles very closely with english language.\n5/ Python is extremely flexible and can be extended to other languages.\n\tCons :\n1/ Python need to be setup in work environment to be able to work with it.\n2/ The memory consumption of pyhton is more as compare to other progarmming language.\n\nQ4. In what all domains can we use Python?\nAns - Python is used in : data analytics , machine learning , data engineering , data science , web development , software development \n\nQ5. What are variable and how can we declare them?\nAns - variables are containers that can store various data inside them , data types like string , integers , boolean , float , list , etc.\n\nQ6. How can we take an input from the user in Python?\nAns - input() - command is used to take input from user and the this input value can be stored in a variable. eg : name = input (\"Enter your name : \")\n\nQ7. What is the default datatype of the value that has been taken as an input using input() function?\nAns - String is the default data type for input function.\n\nQ8. What is type casting?\nAns - Type Cast means changing the data type of a variable or an input from the user.\n\nQ9. Can we take more than one input from the user using single input() function? If yes, how? If no, why?\nAns - The answer can be no or yes both depending on the input that we take and the function that we perform on the input value after we take it from the user.\nNo because we cannot take multiple inputs in a single function because the function only takes one value at a time.\nyes because we can take a lenghty input form and user and then split it into multiple values using split function and we can also user loops to take multiple inputs from a user with only writing one input function.\n\nQ10. What are keywords?\nAns - Keywords are set of words that are already defined in form of functions in python. for e.g : boolean , int , etc.\n\nQ11. Can we use keywords as a variable? Support your answer with reason.\nAns - No we cannot use keywords as a variable.\nThis is because if we use keywords as variable then the system will get confused if the given word is keyword or variable and error occurs.\n\nQ12. What is indentation? What's the use of indentaion in Python?\nAns - Indentation in general means indenting words or spaces or lines in the document to follow the styling rule for documentation.The identification of a block of code in Python is done using Indentation\n\nQ13. How can we throw some output in Python?\nAns - To throw an output in python \"print()\" command is used.\n\nQ14. What are operators in Python?\nAns - Operators are the functions that are used to perform Arithmetic operations. eg : \"+\" operator is used to do addition , \"-\" operator id used to do Subtraction , etc.\n\nQ15. What is difference between / and // operators?\nAns - The division / opeartor gives the exact value of the result and the floor division // opeator rounds the result down to the nearest whole number.\n\"\"\"\n",
      "metadata": {},
      "execution_count": null,
      "outputs": []
    },
    {
      "cell_type": "code",
      "source": "#Q16. Write a code that gives following as an output.\n#iNeuroniNeuroniNeuroniNeuron\n#ans - \nname = \"iNeuron\"\n\nprint (name *4)\niNeuroniNeuroniNeuroniNeuron\n\n\n",
      "metadata": {},
      "execution_count": null,
      "outputs": []
    },
    {
      "cell_type": "code",
      "source": "#Q17. Write a code to take a number as an input from the user and check if the number is odd or even.\nuser_input = input(\"Please enter a number : \")\ngiven_number = int(user_input)\n\nif given_number % 2 == 0 :\n    print (\"The given number \", given_number ,\"is a even number\")\nelse : \n    print (\"The given number \", given_number ,\"is a odd number\")",
      "metadata": {},
      "execution_count": null,
      "outputs": []
    },
    {
      "cell_type": "code",
      "source": "\"\"\"\nQ18. What are boolean operator?\nAns - Boolean aperators are the operators which can only store \"TRUE\" or \"FALSE\" as their value.\nThey are often used in conditional statement.\n\nQ19. What will the output of the following?\n```\na) 1 or 0\nans - 1\nb) 0 and 0\nans 0\nc) True and False and True\nans - False\nd) 1 or 0 or 0\nans - 1\n```\n\nQ20. What are conditional statements in Python?\nAns - Conditional statements are the code lines which helps us to perform functions based on the specified conditions. \nIf the specific condition is fulfilled then pyhton will execute the following code block otherwise it will move to the next statement.\nAnswer of Q17 is an example of conditional statement.\n\nQ21. What is use of 'if', 'elif' and 'else' keywords?\nAns - \"IF\" is the starting statement of if else statement.\nIn the code \"if\" statement follows with a conditional statement and if value of conditional statement is true then the code block of 'if' will execute and the rest block of the function will be discarded.\n\"Else\" is the end of the 'if else' function but it does not contain any conditional statement like \"if\"command and it is not compulsory to use else statement to execute if statement.It is executed if no condition from the no condition from the function is true.\n\"ELIF\" is statement is used between if and else statement , this command is used to add additional conditions to an if else function.\n\"\"\"",
      "metadata": {},
      "execution_count": null,
      "outputs": []
    },
    {
      "cell_type": "code",
      "source": "\"\"\"\nQ22. Write a code to take the age of person as an input and if age >= 18 display \"I can vote\". If age is < 18 display \"I can't vote\".\n\"\"\"\nuser_input = input(\"Please enter your age in number : \")\ngiven_number = int(user_input)\n\nif given_number >= 18 :\n    print (\"I can vote !\")\nelif given_number < 18 : \n    print (\"I can't vote !\")",
      "metadata": {},
      "execution_count": null,
      "outputs": []
    },
    {
      "cell_type": "code",
      "source": "\"\"\"\nQ23. Write a code that displays the sum of all the even numbers from the given list.\n```\nnumbers = [12, 75, 150, 180, 145, 525, 50]\n```\n\"\"\"\nnumbers = [12, 75, 150, 180, 145, 525, 50]\nresult = 0\nfor num in numbers:\n    if num % 2 == 0 :\n        result = result + num\n\nprint (result)",
      "metadata": {},
      "execution_count": null,
      "outputs": []
    },
    {
      "cell_type": "code",
      "source": "\"\"\"\nQ24. Write a code to take 3 numbers as an input from the user and display the greatest no as output.\n\"\"\"\n\nnum1 = int(input(\"Enter first number: \"))\nnum2 = int(input(\"Enter second number: \"))\nnum3 = int(input(\"Enter third number: \"))\n\nif (num1 >= num2) and (num1 >= num3):\n   largest = num1\nelif (num2 >= num1) and (num2 >= num3):\n   largest = num2\nelse:\n   largest = num3\n\nprint(\"The largest number is\", largest)",
      "metadata": {},
      "execution_count": null,
      "outputs": []
    },
    {
      "cell_type": "code",
      "source": "\"\"\"\nQ25. Write a program to display only those numbers from a list that satisfy the following conditions\n\n- The number must be divisible by five\n\n- If the number is greater than 150, then skip it and move to the next number\n\n- If the number is greater than 500, then stop the loop\n```\nnumbers = [12, 75, 150, 180, 145, 525, 50]\n```\n\"\"\"\na = [12, 75, 150, 180, 145, 525, 50]\nb = []\nfor i in a:\n    if i > 150:\n        if i > 500:\n            break\n        continue\n    if i % 5 == 0:\n        b.append(i)\n        \nprint(b)",
      "metadata": {},
      "execution_count": null,
      "outputs": []
    },
    {
      "cell_type": "code",
      "source": "\"\"\"Q26. What is a string? How can we declare string in Python?\nans - Strings in python are surrounded by either single quotation marks, or double quotation marks.\n'hello' is the same as \"hello\".\n\"\"\"",
      "metadata": {},
      "execution_count": null,
      "outputs": []
    },
    {
      "cell_type": "code",
      "source": "\"\"\"Q27. How can we access the string using its index?\nAns - String indexing is zero-based in Python: the first character in the string has index 0, the next has index 1, and so on.\nWe can user square bracket with the value of the index to get the desired output.\neg : \"\"\"\nname = \"Ajay Sharma\"\nprint(name[5])\n#output - \"S\"\n#In the above example we can see how it is done.",
      "metadata": {},
      "execution_count": null,
      "outputs": []
    },
    {
      "cell_type": "code",
      "source": "\"\"\"\nQ28. Write a code to get the desired output of the following\nstring = \"Big Data iNeuron\"\ndesired_output = \"iNeuron\"\nAns - sentence = \"Big Data iNeuron\"\nword = (sentence[9:16])\nprint (word[::-1])\n\nQ29. Write a code to get the desired output of the following\nstring = \"Big Data iNeuron\"\ndesired_output = \"norueNi\"\nAns - sentence = \"Big Data iNeuron\"\nword = (sentence[9:16])\nprint (word[::-1])\n\n\nQ30. Resverse the string given in the above question.\nans - print (sentence[::-1])\n\nQ31. How can you delete entire string at once?\nans - We can either delete the variable containing the string or we can user replace() function to remove the string and replace it with somethings else that we want.\n\nQ32. What is escape sequence?\nans - An escape sequence is a special character used in the form of backslash(\\) followed by a character that is required\n\nQ33. How can you print the below string?\n'iNeuron's Big Data Course'\nans - print (\"'iNeuron's Big Data Course'\") or \nprint ('\\'iNeuron\\'s Big Data Course\\'')\n\nQ34. What is a list in Python?\nans - A python list can be defined as a collection of values or items of different types. The items in the list are separated with the comma (,) and enclosed with the square brackets [].Lists are mutable type its mean we can modify its element after it created.\n\nQ35. How can you create a list in Python?\nans - The items in the list are separated with the comma (,) and enclosed with the square brackets []\n\nQ36. How can we access the elements in a list?\nans - we can user indexing to access the elements in a list.\neg - print(list_name[index_number_of_element])\n\nQ37. Write a code to access the word \"iNeuron\" from the given list.\nlst = [1,2,3,\"Hi\",[45,54, \"iNeuron\"], \"Big Data\"]\nans - lst = [1,2,3,\"Hi\",[45,54, \"iNeuron\"], \"Big Data\"]\nlst2 = (lst[4])\nprint (lst2[2])\n\n\nQ38. Take a list as an input from the user and find the length of the list.\nans - input_string = input('Enter elements of a list separated by space ')\nuser_list = input_string.split()\nprint('list: ', user_list)\nprint (\"Length of list is : \" ,len(user_list))\n\nQ39. Add the word \"Big\" in the 3rd index of the given list.\nlst = [\"Welcome\", \"to\", \"Data\", \"course\"]\nans - lst = [\"Welcome\", \"to\", \"Data\", \"course\"]\nlst.insert(2, \"Big\")\nprint(lst)  #o/p - [\"Welcome\", \"to\",\"Big\", \"Data\", \"course\"]\n\nQ40. What is a tuple? How is it different from list?\nans - Tuple is a immutable data type in Python.\nThe data entered in tuple cannot be edited like lists.\nTuple occupies less memory in system due to its static/immutable nature.Tuples are denoted as parenthesis () and the elements are seperated by comma (,)\n\nQ41. How can you create a tuple in Python?\nans - Tuples are created by entering data between parenthesis () and the elements are seperated by comma (,)\n\nQ42. Create a tuple and try to add your name in the tuple. Are you able to do it? Support your answer with reason.\nans - code \ntup = (\"t\",\"u\",\"p\",\"l\",\"e\")\nprint(tup)\nle = list(tup)\nle.append(\"ajay\")\ntup = tuple(le)\nprint(tup)\n\nYes I am able to add my name to the tuple by type casting the tuple into a list and then appending my name in the list and then converting the list back into the tuple.\n\nQ43. Can two tuple be appended. If yes, write a code for it. If not, why?\nans - code \ntup = (\"t\",\"u\",\"p\")\nle = (\"l\",\"e\")\ntup = tup+le\nprint(tup)\n\nTuple can be appended to each other by adding both the tuples.\n\n\nQ44. Take a tuple as an input and print the count of elements in it.\nans - code\ninput_from_user = input(\"Please enter some values seperated by comma : \")\ntuple = tuple(input_from_user.split(\",\"))\nprint('tuple:',tuple)\nprint (\"Length of tuple : \" ,len(tuple))\n\nQ45. What are sets in Python?\nans - A Set is an unordered collection data type that is iterable, mutable and has no duplicate elements.Set are represented by curly brackets {} and the elements are seperated by comma (,)\n\nQ46. How can you create a set?\nans - Set are created by entering data between curly brackets {} and the elements are seperated by comma (,)\n\nQ47. Create a set and add \"iNeuron\" in your set.\nans - set1 = {\"Shashank\", \"Sunny\", \"Krish\"}\nset1.add(\"iNeuron\")\nprint (set1)\n\nQ48. Try to add multiple values using add() function.\nans - set1 = {100 , 200 , 300 }\nfor i in range(1, 6):\n    set1.add(i)\nprint (set1)\n\nQ49. How is update() different from add()?\nans - add() function is only takes one element to add in the set while update() function also only takes one element but the element can be list,tuple,set,dictionary .Update function takes the elements and converts them to the data type of set and then add it to the set.\n\nQ50. What is clear() in sets?\nans - clear() function removes all elements from the set.\n\nQ51. What is frozen set?\nans - Python frozenset() function creates an immutable Set object from an iterable.New set should be made which will hold the immutable Set\n\nQ52. How is frozen set different from set?\nans - the frozen set is immutable in nature. it cannot be iterated while normal set is mutable and can be easily interable.\n\nQ53. What is union() in sets? Explain via code.\nans - union() function in python adds 2 sets together without duplicating the elements i.e. Return a set that contains all items from both sets, duplicates are excluded.\neg :- set1 = {1 , 2 , 3 , 4 , 5, \"a\" , \"b\"}\nset2 = {4 , 5 , 6 , 7 ,\"c\" , \"d\"}\nuset = set1.union(set2) \nprint (uset)\n#output - {1, 2, 3, 4, 5, 'a', 6, 'b', 7, 'c', 'd'}\n\n\nQ54. What is intersection() in sets? Explain via code.\nans - The intersection() function returns a set that contains the similarity between two or more sets.\neg - set1 = {1 , 2 , 3 , 4 , 5, \"a\" , \"b\"}\nset2 = {4 , 5 , 6 , 7 ,\"c\" , \"d\"}\nuset = set1.intersection(set2) \nprint (uset)\n#output - {4, 5}\n\nQ55. What is dictionary in Python?\nans - Dictionary in Python is a collection of keys value pairs.In Python, a dictionary can be created by placing a sequence of elements within curly {} braces, separated by comma(,).\n\nQ56. How is dictionary different from all other data structures.\nans - While other data structures like lists,sets,tuples take single value as an element but on other hand dictionary take a pair of 2 values as a single element.\n\nQ57. How can we delare a dictionary in Python?\nans - In Python, a dictionary can be created by placing a sequence of elements within curly {} braces, separated by comma(,).\n\nQ58. What will the output of the following?\nvar = {}\nprint(type(var))\nans - <class 'dict'>\n\nQ59. How can we add an element in a dictionary?\nans - we can add elements in dictionary but following method :\nDictonary_name[key_name]=\"value_name\"\n\nQ60. Create a dictionary and access all the values in that dictionary.\nans - mydict = {\n  \"fname\": \"ajay\",\n  \"sname\": \"sharma\",\n  \"age\": 24 ,\n  \"location\":\"mumbai\"\n}\nprint(mydict.values())\n\nQ61. Create a nested dictionary and access all the element in the inner dictionary.\nans - #code \nmydict = {\n  \"fname\": \"ajay\",\n  \"sname\": \"sharma\",\n  \"age\": 24 ,\n  \"location\":\"mumbai\",\n  \"marks\" : {\n      \"eng\":10 ,\n      \"maths\":10 ,\n      \"sci\":9\n  }\n}\nx = mydict[\"marks\"].values()\nprint(x)\n\n\nQ62. What is the use of get() function?\nans - The get() function returns the value of the item with the specified key. eg : x = dic_name.get(\"key_name\")\n\nQ63. What is the use of items() function?\nans - The items() function returns a view tuple. The view contains the key-value pairs of the dictionary, as tuples in a list.The view tuple also shows the updated values even if the updating is done after the item() function.\n\nQ64. What is the use of pop() function?\nans - The pop() function removes the specified item from the dictionary. eg - x = dic_name.pop(\"key_name\")\n\nQ65. What is the use of popitems() function?\nans - The popitem() function removes the item that was last inserted into the dictionary. eg - x = dic_name.popitem(\"key_name\")\n\n\nQ66. What is the use of keys() function?\nans - The key() function shows all the keys of the dictionary. eg -  print(dic_name.key())\n\nQ67. What is the use of values() function?\nans - The value() function shows all the keys of the dictionary. eg -  print(dic_name.values())\n\n\nQ68. What are loops in Python?\nans - loops are the code blocks that repeatedly execute an action based on the conditions.\n\nQ69. How many type of loop are there in Python?\nans - There are mainly 2 type of loops .\nFOR loop and WHILE loop.\n\nQ70. What is the difference between for and while loops?\nans - WHILE loop - While loops execute a set of lines of code till a condition is satisfied. Once the condition results in False, it stops execution, and the part of the program after the loop starts executing. and \nFOR loop - For loop in Python works on a sequence of values. For each value in the sequence, it executes the loop till it reaches the end of the sequence.\n\nQ71. What is the use of continue statement?\nans - The continue statement is used to skip that interaction of the loop and go with the next iteration.\n\nQ72. What is the use of break statement?\nans - We can use the break statement to stop the execution of the loop and go out of the loop to execute the remaining part of the program.\n\nQ73. What is the use of pass statement?\nans - The pass statement is used to write an empty loop\n\nQ74. What is the use of range() function?\nans - The Python range() function returns a sequence of numbers, in a given range.\n\nQ75. How can you loop over a dictionary?\nans - We can loop over a dictionary by using for loop.\"\"\"\n",
      "metadata": {},
      "execution_count": null,
      "outputs": []
    },
    {
      "cell_type": "code",
      "source": "\"\"\"\nCoding problems\nQ76. Write a Python program to find the factorial of a given number.\nans - \"\"\"\nnum = int(input(\"Enter a number : \"))\nfactorial = 1\nfor i in range (1 , num+1):\n    factorial = factorial * i\nprint(factorial)\n\n",
      "metadata": {},
      "execution_count": null,
      "outputs": []
    },
    {
      "cell_type": "code",
      "source": "\"\"\"Q77. Write a Python program to calculate the simple interest. Formula to calculate simple interest is SI = (PRT)/100\nans - \"\"\"\n#S.I = (Principal_Amount × Rate × Time_period)/100\nP = int(input(\"Please enter the Principal_Amount in number : \"))\nR = float(input(\"Please enter the Rate_of_interest in number : \"))\nT = int(input(\"Please enter Time_period in months in number : \"))\nsimple_interest = (P * R * T)/100\nprint (f\"Simple_interest on Rs-{P} for {T} months at Rate_of_interest {R} is Rs-{simple_interest}.\")\n\n",
      "metadata": {},
      "execution_count": null,
      "outputs": []
    },
    {
      "cell_type": "code",
      "source": "\"\"\"Q78. Write a Python program to calculate the compound interest. Formula of compound interest is A = P(1+ R/100)^t.\nans - \"\"\"\n#C.I = A = P(1+ R/100)^t.\nP = int(input(\"Please enter the Principal_Amount in number : \"))\nR = float(input(\"Please enter the Rate_of_interest in number : \"))\nT = int(input(\"Please enter Time_period in months in number : \"))\ncompound_interest = P*(1 + R/100)**T\nprint (f\"Compound_interest_interest on Rs {P} for {T} months at Rate_of_interest {R} is Rs {compound_interest}.\")\n\n",
      "metadata": {},
      "execution_count": null,
      "outputs": []
    },
    {
      "cell_type": "code",
      "source": "\"\"\"Q79. Write a Python program to check if a number is prime or not.\nans - \"\"\"\nnum = int(input(\"Please enter the number : \"))\nif num > 1:\n   for i in range(2,num):\n        if (num % i) == 0:\n            print(f\"Given number {num} is not prime number.\")\n            break \nelse:\n   print(f\"Given number {num} is a prime number.\")\n\n\n",
      "metadata": {},
      "execution_count": null,
      "outputs": []
    },
    {
      "cell_type": "code",
      "source": "\"\"\"Q80. Write a Python program to check Armstrong Number.\nans - \"\"\"\nnum = (input(\"Please enter the number : \"))\nl1 = list(map(int, num))\n#print(l1)\nam = 0\nfor i in l1 :\n    am = am + (i**3)\n#print(am)\nif am == int(num) :\n    print (f\"Given number {num} is a armstrong number.\")\nelse :\n    print (f\"Given number {num} is not a armstrong number.\")\n",
      "metadata": {},
      "execution_count": null,
      "outputs": []
    },
    {
      "cell_type": "code",
      "source": "\"\"\"\n\n\nQ81. Write a Python program to find the n-th Fibonacci Number.\nans - \"\"\"\ndef Fib(n):\n    if n<= 0:\n        print(\"Please enter a correct input !\")\n    elif n == 1:\n        return 0\n    elif n == 2:\n        return 1\n    else:\n        return Fib(n-1)+Fib(n-2)\n\nnum = int(input(\"Enter the number : \"))\nprint(Fib(num))\n\n",
      "metadata": {},
      "execution_count": null,
      "outputs": []
    },
    {
      "cell_type": "code",
      "source": "\"\"\"Q82. Write a Python program to interchange the first and last element in a list.\nans - \"\"\"\ndef swapLast(List):\n   size = len(List)\n   # Swap operation\n   temp = List[0]\n   List[0] = List[size - 1]\n   List[size - 1] = temp\n   return List\n# Driver code\nList = [\"a\",\"j\",\"a\",\"y\"]\nprint(swapLast(List))\n\n\n",
      "metadata": {},
      "execution_count": null,
      "outputs": []
    },
    {
      "cell_type": "code",
      "source": "\"\"\"Q83. Write a Python program to swap two elements in a list.\nans - \"\"\"\ndef swapList(List , n1 , n2):\n   size = len(List)\n   # Swap operation\n   temp1 = List[n1]\n   temp2 = List[n2]\n   List[n1] = temp2\n   List[n2] = temp1\n   return List\n# Driver code\nList = [0 ,1 , 2, 3, 4 , 5 , 6, 7 ,8]\nn1 = int(input(\"Enter the number of index : \"))\nn2 = int(input(\"Enter the number of index : \"))\n\nprint(swapList(List , n1 , n2 ))\n\n\n",
      "metadata": {},
      "execution_count": null,
      "outputs": []
    },
    {
      "cell_type": "code",
      "source": "\"\"\"Q84. Write a Python program to find N largest element from a list.\nans - \"\"\"\ndef Largest_element(List , n1):\n    #print (max(List))\n    List.sort()\n    #print(List)\n    List.reverse()\n    #print(List)\n    for i in range(n1):\n        print (List[i])\n        \nList = []\nn = int(input(\"Enter number of elements : \"))\nfor i in range(0, n):\n    ele = int(input(\"Enter the number for the list\"))\n    List.append(ele)\nprint (f\"This is your given list :{List}\")\nn1 = int(input(\"\\nEnter the nth number : \"))\nLargest_element(List , n1)\n\n\n",
      "metadata": {},
      "execution_count": null,
      "outputs": []
    },
    {
      "cell_type": "code",
      "source": "\"\"\"Q85. Write a Python program to find cumulative sum of a list.\nans - \"\"\"\ndef sum_elements(List ):\n    csum = sum(List)\n    print (f\"Cumulative sum of a list is : {csum}.\")\nList = []\nn = int(input(\"Enter number of elements for the List : \"))\nfor i in range(0, n):\n    ele = int(input(\"Enter the number for the list\"))\n    List.append(ele)\nprint (f\"This is your given list :{List}\")\nsum_elements(List)\n\n",
      "metadata": {},
      "execution_count": null,
      "outputs": []
    },
    {
      "cell_type": "code",
      "source": "\"\"\"Q86. Write a Python program to check if a string is palindrome or not.\nans - \"\"\"\n#a palidrome is a word which is same if you read it form forward or backward\ndef ispalindrome (word) :\n    r_word = word[::-1]\n    #print(r_word)\n    if r_word == word :\n        print(f'Given string \"{word}\" is a palindrome.')\n    else :\n        print(f'Given string \"{word}\" is not a palindrome.')\n\ns = input(\"Enter the word which needs to be checked : \")\nispalindrome(s) \n\n\n",
      "metadata": {},
      "execution_count": null,
      "outputs": []
    },
    {
      "cell_type": "code",
      "source": "\"\"\"Q87. Write a Python program to remove i'th element from a string.\nans - \"\"\"\nstring1 = input(\"Please enter your string : \")\nnum = int(input(\"Please enter index which is to be removed : \"))\nnew_str = \"\"\n \nfor i in range(len(string1)):\n    if i != num:\n        new_str = new_str + string1[i]\n \n# Printing string after removal\nprint (\"The string after removal of i'th character : \" + new_str)",
      "metadata": {},
      "execution_count": null,
      "outputs": []
    },
    {
      "cell_type": "code",
      "source": "\"\"\"Q88. Write a Python program to check if a substring is present in a given string.\nans - \"\"\"\ndef word_check (sen , word) :\n    if word in sen :\n        print(f'Given string \"{word}\" is present in \"{sen}\"\".')\n    else :\n        print(f'Given string \"{word}\" is not present in \"{sen}\"')\n\nsen = input(\"Enter the sentence : \")\ns = input(\"Enter the word which needs to be checked : \")\nword_check(sen , s) ",
      "metadata": {},
      "execution_count": null,
      "outputs": []
    },
    {
      "cell_type": "code",
      "source": "\"\"\"Q89. Write a Python program to find words which are greater than given length k.\nans - \"\"\"\ndef string_check(k, line):\n    str = []\n    text = line.split(\" \")\n    for x in text:\n        if len(x) > k:\n            str.append(x)\n    return str\n \n# Driver Program \nline =input(\"Enter the string seperated by a space : \")\nk =int (input(\"Enter a number to check : \"))\n\nprint(string_check(k, line))\n\n\n",
      "metadata": {},
      "execution_count": null,
      "outputs": []
    },
    {
      "cell_type": "code",
      "source": "\"\"\"Q90. Write a Python program to extract unquire dictionary values.\nans - \"\"\"\ntest_dict = {'call' : [1,2,3,4],\n            'my' : [4,5,6,7],\n            'name' : [7,8,9],\n            'please' : [1,10,20]}\n\nprint(\"The original dictionary is : \" + str(test_dict))\n\nx=[]\nfor i in test_dict.keys():\n    x.extend(test_dict[i])\nx=list(set(x))\nx.sort()\nprint(\"The unique values list is : \" + str(x))\n\n\n",
      "metadata": {},
      "execution_count": null,
      "outputs": []
    },
    {
      "cell_type": "code",
      "source": "\"\"\"Q91. Write a Python program to merge two dictionary.\nans - \"\"\"\ndef dict_merger (dict1 , dict2):\n    dict1.update(dict2)\n    print (dict1)\n\ndict1 = {'a': 'ajay', 'b': 'bhavesh'}\ndict2 = {'d': 'david', 'c': 'chetan'}\ndict_merger(dict1 , dict2)\n\n\n",
      "metadata": {},
      "execution_count": null,
      "outputs": []
    },
    {
      "cell_type": "code",
      "source": "\"\"\"Q92. Write a Python program to convert a list of tuples into dictionary.\nInput : [('Sachin', 10), ('MSD', 7), ('Kohli', 18), ('Rohit', 45)]\nOutput : {'Sachin': 10, 'MSD': 7, 'Kohli': 18, 'Rohit': 45}\nans - \"\"\"\ndef dict_converter (List):\n    dict1 = dict(List) #dict is a type cast keyword to convert a list into dictionary\n    print (dict1)\nLst = [('Sachin', 10), ('MSD', 7), ('Kohli', 18), ('Rohit', 45)]\ndict_converter (Lst)\n\n\n",
      "metadata": {},
      "execution_count": null,
      "outputs": []
    },
    {
      "cell_type": "code",
      "source": "\"\"\"Q93. Write a Python program to create a list of tuples from given list having number and its cube in each tuple.\nInput: list = [9, 5, 6]\nOutput: [(9, 729), (5, 125), (6, 216)]\nans - \"\"\"\nlst1 = [9, 5, 6]\nlst2 = []\nfor i in lst1:\n    lst2.append((i, (i**3)))\nprint(lst2)\n\n\n\n",
      "metadata": {},
      "execution_count": null,
      "outputs": []
    },
    {
      "cell_type": "code",
      "source": "\"\"\"Q94. Write a Python program to get all combinations of 2 tuples.\nInput : test_tuple1 = (7, 2), test_tuple2 = (7, 8)\nOutput : [(7, 7), (7, 8), (2, 7), (2, 8), (7, 7), (7, 2), (8, 7), (8, 2)]\nans - \"\"\"\ntest_tuple1 = (7, 2)\ntest_tuple2 = (7, 8)\nlst = []\nlst1 = list(test_tuple1)\nlst2 = list(test_tuple2)\nfor i in lst1 :\n    for j in lst2 :\n        for k in lst1 :\n            lst.append((j,k))\nprint(lst)\n\n\n",
      "metadata": {},
      "execution_count": null,
      "outputs": []
    },
    {
      "cell_type": "code",
      "source": "\"\"\"Q95. Write a Python program to sort a list of tuples by second item.\nInput : [('for', 24), ('Geeks', 8), ('Geeks', 30)] \nOutput : [('Geeks', 8), ('for', 24), ('Geeks', 30)]\nans -\"\"\"\ndef Sort_list(lst):\n    lst.sort(key = lambda x: x[1]) #in the squarebracket 0 means the list will be sorted by the keys and 1 means the list will be sorted by the value.\n    return lst\n \n# Driver Code\nlst = [('for', 24), ('Geeks', 8), ('Geeks', 30)] #, ('rocks', 20) , ('test' , 10)] \n\nprint(Sort_list(lst ))\n\n\n\n",
      "metadata": {},
      "execution_count": null,
      "outputs": []
    },
    {
      "cell_type": "code",
      "source": "\"\"\"Q96. Write a python program to print below pattern.\n\n\n* \n* * \n* * * \n* * * * \n* * * * * \ncode -\"\"\"\nnum = 6\nfor n in range(1, num):\n    for i in range(1, n+1):\n        print(\"*\", end=\" \")\n    print(\"\")\n\n\n",
      "metadata": {},
      "execution_count": null,
      "outputs": []
    },
    {
      "cell_type": "code",
      "source": "\"\"\"Q97. Write a python program to print below pattern.\n\n\n    *\n   **\n  ***\n ****\n*****\nans -\"\"\"\nrows = int(input(\"Enter the number of rows:\"))  \nk = 2 * rows - 2  # It is used for number of spaces  \nfor i in range(0, rows):  \n    for j in range(0, k):  \n        print(end=\" \")  \n    k = k - 2   # decrement k value after each iteration  \n    for j in range(0, i + 1):  \n        print(\"* \", end=\"\")  # printing star  \n    print(\"\")  \n\n\n\n",
      "metadata": {},
      "execution_count": null,
      "outputs": []
    },
    {
      "cell_type": "code",
      "source": "\"\"\"Q98. Write a python program to print below pattern.\n\n\n    * \n   * * \n  * * * \n * * * * \n* * * * * \nans -\"\"\"\nrows = int(input(\"Enter the number of rows:\"))  \nk = (2 * rows) - 2  # It is used for number of spaces  \nfor i in range(0, rows):  \n    for j in range(0, k):  \n        print(end=\" \")  \n    k = k - 1   # decrement k value after each iteration  \n    for j in range(0, i + 1):  \n        print(\"* \", end=\"\")  # printing star  \n    print(\"\")   \n\n\n",
      "metadata": {},
      "execution_count": null,
      "outputs": []
    },
    {
      "cell_type": "code",
      "source": "\"\"\"Q99. Write a python program to print below pattern.\n\n\n1 \n1 2 \n1 2 3 \n1 2 3 4 \n1 2 3 4 5\n\nans - \"\"\"\nnum = 6\nfor n in range(1, num):\n    for i in range(1, n+1):\n        print(i, end=\" \")\n    print(\"\")\n\n\n",
      "metadata": {},
      "execution_count": null,
      "outputs": []
    },
    {
      "cell_type": "code",
      "source": "\"\"\"Q100. Write a python program to print below pattern.\n\n\nA \nB B \nC C C \nD D D D \nE E E E E \n\nans - code :\"\"\"\nn = 5\nv = 65 #65 is ASCII CODE of \"A\" \nfor i in range(1,n+1):\n    for j in range(1, i+1):\n        print(chr(v), end=\"\")\n    v = v + 1\n    print()\n",
      "metadata": {},
      "execution_count": null,
      "outputs": []
    }
  ]
}